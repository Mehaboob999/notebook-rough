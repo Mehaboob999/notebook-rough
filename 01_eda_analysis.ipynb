{
  "nbformat": 4,
  "nbformat_minor": 0,
  "metadata": {
    "colab": {
      "provenance": [],
      "toc_visible": true,
      "authorship_tag": "ABX9TyOW3Sk5qzyUvZu9P4mNu1lC",
      "include_colab_link": true
    },
    "kernelspec": {
      "name": "python3",
      "display_name": "Python 3"
    },
    "language_info": {
      "name": "python"
    }
  },
  "cells": [
    {
      "cell_type": "markdown",
      "metadata": {
        "id": "view-in-github",
        "colab_type": "text"
      },
      "source": [
        "<a href=\"https://colab.research.google.com/github/Mehaboob999/notebook-rough/blob/main/01_eda_analysis.ipynb\" target=\"_parent\"><img src=\"https://colab.research.google.com/assets/colab-badge.svg\" alt=\"Open In Colab\"/></a>"
      ]
    },
    {
      "cell_type": "code",
      "execution_count": 1,
      "metadata": {
        "id": "XfCy7NxDngvc"
      },
      "outputs": [],
      "source": [
        "import pandas as pd\n",
        "import matplotlib.pyplot as plt\n",
        "import seaborn as sns\n"
      ]
    },
    {
      "cell_type": "code",
      "source": [
        "df = pd.read_csv('/content/Sales_data(EDA Exported).csv')\n",
        "df.head()\n"
      ],
      "metadata": {
        "colab": {
          "base_uri": "https://localhost:8080/",
          "height": 290
        },
        "id": "ZutzyMETnt4L",
        "outputId": "fbff10e2-8195-45fb-dc41-026d07d6cb17"
      },
      "execution_count": 3,
      "outputs": [
        {
          "output_type": "execute_result",
          "data": {
            "text/plain": [
              "   order_number  order_date     customer_name      channel product_name  \\\n",
              "0   SO - 000225  2014-01-01     Rhynoodle Ltd    Wholesale   Product 27   \n",
              "1  SO - 0003378  2014-01-01    Thoughtmix Ltd  Distributor   Product 20   \n",
              "2  SO - 0005126  2014-01-01   Amerisourc Corp    Wholesale   Product 26   \n",
              "3  SO - 0005614  2014-01-01  Colgate-Pa Group       Export    Product 7   \n",
              "4  SO - 0005781  2014-01-01     Deseret Group    Wholesale    Product 8   \n",
              "\n",
              "   quantity  unit_price  revenue      cost state  ...  us_region       lat  \\\n",
              "0       6.0      2499.1  14994.6  1824.343    GA  ...      South  32.08354   \n",
              "1      11.0      2351.7  25868.7  1269.918    IN  ...    Midwest  39.61366   \n",
              "2       6.0       978.2   5869.2   684.740    CA  ...       West  37.66243   \n",
              "3       7.0      2338.3  16368.1  1028.852    IN  ...    Midwest  39.16533   \n",
              "4       8.0      2291.4  18331.2  1260.270    CT  ...  Northeast  41.77524   \n",
              "\n",
              "         lon  budget  total_cost     profit  profit_margin_pct  \\\n",
              "0  -81.09983     NaN   10946.058   4048.542               27.0   \n",
              "1  -86.10665     NaN   13969.098  11899.602               46.0   \n",
              "2 -121.87468     NaN    4108.440   1760.760               30.0   \n",
              "3  -86.52639     NaN    7201.964   9166.136               56.0   \n",
              "4  -72.52443     NaN   10082.160   8249.040               45.0   \n",
              "\n",
              "   order_month_name order_month_num  order_month  \n",
              "0           January             1.0      2014-01  \n",
              "1           January             1.0      2014-01  \n",
              "2           January             1.0      2014-01  \n",
              "3           January             1.0      2014-01  \n",
              "4           January             1.0      2014-01  \n",
              "\n",
              "[5 rows x 21 columns]"
            ],
            "text/html": [
              "\n",
              "  <div id=\"df-375bdd66-3c6a-4a5a-a5a5-7eae8a58a9a5\" class=\"colab-df-container\">\n",
              "    <div>\n",
              "<style scoped>\n",
              "    .dataframe tbody tr th:only-of-type {\n",
              "        vertical-align: middle;\n",
              "    }\n",
              "\n",
              "    .dataframe tbody tr th {\n",
              "        vertical-align: top;\n",
              "    }\n",
              "\n",
              "    .dataframe thead th {\n",
              "        text-align: right;\n",
              "    }\n",
              "</style>\n",
              "<table border=\"1\" class=\"dataframe\">\n",
              "  <thead>\n",
              "    <tr style=\"text-align: right;\">\n",
              "      <th></th>\n",
              "      <th>order_number</th>\n",
              "      <th>order_date</th>\n",
              "      <th>customer_name</th>\n",
              "      <th>channel</th>\n",
              "      <th>product_name</th>\n",
              "      <th>quantity</th>\n",
              "      <th>unit_price</th>\n",
              "      <th>revenue</th>\n",
              "      <th>cost</th>\n",
              "      <th>state</th>\n",
              "      <th>...</th>\n",
              "      <th>us_region</th>\n",
              "      <th>lat</th>\n",
              "      <th>lon</th>\n",
              "      <th>budget</th>\n",
              "      <th>total_cost</th>\n",
              "      <th>profit</th>\n",
              "      <th>profit_margin_pct</th>\n",
              "      <th>order_month_name</th>\n",
              "      <th>order_month_num</th>\n",
              "      <th>order_month</th>\n",
              "    </tr>\n",
              "  </thead>\n",
              "  <tbody>\n",
              "    <tr>\n",
              "      <th>0</th>\n",
              "      <td>SO - 000225</td>\n",
              "      <td>2014-01-01</td>\n",
              "      <td>Rhynoodle Ltd</td>\n",
              "      <td>Wholesale</td>\n",
              "      <td>Product 27</td>\n",
              "      <td>6.0</td>\n",
              "      <td>2499.1</td>\n",
              "      <td>14994.6</td>\n",
              "      <td>1824.343</td>\n",
              "      <td>GA</td>\n",
              "      <td>...</td>\n",
              "      <td>South</td>\n",
              "      <td>32.08354</td>\n",
              "      <td>-81.09983</td>\n",
              "      <td>NaN</td>\n",
              "      <td>10946.058</td>\n",
              "      <td>4048.542</td>\n",
              "      <td>27.0</td>\n",
              "      <td>January</td>\n",
              "      <td>1.0</td>\n",
              "      <td>2014-01</td>\n",
              "    </tr>\n",
              "    <tr>\n",
              "      <th>1</th>\n",
              "      <td>SO - 0003378</td>\n",
              "      <td>2014-01-01</td>\n",
              "      <td>Thoughtmix Ltd</td>\n",
              "      <td>Distributor</td>\n",
              "      <td>Product 20</td>\n",
              "      <td>11.0</td>\n",
              "      <td>2351.7</td>\n",
              "      <td>25868.7</td>\n",
              "      <td>1269.918</td>\n",
              "      <td>IN</td>\n",
              "      <td>...</td>\n",
              "      <td>Midwest</td>\n",
              "      <td>39.61366</td>\n",
              "      <td>-86.10665</td>\n",
              "      <td>NaN</td>\n",
              "      <td>13969.098</td>\n",
              "      <td>11899.602</td>\n",
              "      <td>46.0</td>\n",
              "      <td>January</td>\n",
              "      <td>1.0</td>\n",
              "      <td>2014-01</td>\n",
              "    </tr>\n",
              "    <tr>\n",
              "      <th>2</th>\n",
              "      <td>SO - 0005126</td>\n",
              "      <td>2014-01-01</td>\n",
              "      <td>Amerisourc Corp</td>\n",
              "      <td>Wholesale</td>\n",
              "      <td>Product 26</td>\n",
              "      <td>6.0</td>\n",
              "      <td>978.2</td>\n",
              "      <td>5869.2</td>\n",
              "      <td>684.740</td>\n",
              "      <td>CA</td>\n",
              "      <td>...</td>\n",
              "      <td>West</td>\n",
              "      <td>37.66243</td>\n",
              "      <td>-121.87468</td>\n",
              "      <td>NaN</td>\n",
              "      <td>4108.440</td>\n",
              "      <td>1760.760</td>\n",
              "      <td>30.0</td>\n",
              "      <td>January</td>\n",
              "      <td>1.0</td>\n",
              "      <td>2014-01</td>\n",
              "    </tr>\n",
              "    <tr>\n",
              "      <th>3</th>\n",
              "      <td>SO - 0005614</td>\n",
              "      <td>2014-01-01</td>\n",
              "      <td>Colgate-Pa Group</td>\n",
              "      <td>Export</td>\n",
              "      <td>Product 7</td>\n",
              "      <td>7.0</td>\n",
              "      <td>2338.3</td>\n",
              "      <td>16368.1</td>\n",
              "      <td>1028.852</td>\n",
              "      <td>IN</td>\n",
              "      <td>...</td>\n",
              "      <td>Midwest</td>\n",
              "      <td>39.16533</td>\n",
              "      <td>-86.52639</td>\n",
              "      <td>NaN</td>\n",
              "      <td>7201.964</td>\n",
              "      <td>9166.136</td>\n",
              "      <td>56.0</td>\n",
              "      <td>January</td>\n",
              "      <td>1.0</td>\n",
              "      <td>2014-01</td>\n",
              "    </tr>\n",
              "    <tr>\n",
              "      <th>4</th>\n",
              "      <td>SO - 0005781</td>\n",
              "      <td>2014-01-01</td>\n",
              "      <td>Deseret Group</td>\n",
              "      <td>Wholesale</td>\n",
              "      <td>Product 8</td>\n",
              "      <td>8.0</td>\n",
              "      <td>2291.4</td>\n",
              "      <td>18331.2</td>\n",
              "      <td>1260.270</td>\n",
              "      <td>CT</td>\n",
              "      <td>...</td>\n",
              "      <td>Northeast</td>\n",
              "      <td>41.77524</td>\n",
              "      <td>-72.52443</td>\n",
              "      <td>NaN</td>\n",
              "      <td>10082.160</td>\n",
              "      <td>8249.040</td>\n",
              "      <td>45.0</td>\n",
              "      <td>January</td>\n",
              "      <td>1.0</td>\n",
              "      <td>2014-01</td>\n",
              "    </tr>\n",
              "  </tbody>\n",
              "</table>\n",
              "<p>5 rows × 21 columns</p>\n",
              "</div>\n",
              "    <div class=\"colab-df-buttons\">\n",
              "\n",
              "  <div class=\"colab-df-container\">\n",
              "    <button class=\"colab-df-convert\" onclick=\"convertToInteractive('df-375bdd66-3c6a-4a5a-a5a5-7eae8a58a9a5')\"\n",
              "            title=\"Convert this dataframe to an interactive table.\"\n",
              "            style=\"display:none;\">\n",
              "\n",
              "  <svg xmlns=\"http://www.w3.org/2000/svg\" height=\"24px\" viewBox=\"0 -960 960 960\">\n",
              "    <path d=\"M120-120v-720h720v720H120Zm60-500h600v-160H180v160Zm220 220h160v-160H400v160Zm0 220h160v-160H400v160ZM180-400h160v-160H180v160Zm440 0h160v-160H620v160ZM180-180h160v-160H180v160Zm440 0h160v-160H620v160Z\"/>\n",
              "  </svg>\n",
              "    </button>\n",
              "\n",
              "  <style>\n",
              "    .colab-df-container {\n",
              "      display:flex;\n",
              "      gap: 12px;\n",
              "    }\n",
              "\n",
              "    .colab-df-convert {\n",
              "      background-color: #E8F0FE;\n",
              "      border: none;\n",
              "      border-radius: 50%;\n",
              "      cursor: pointer;\n",
              "      display: none;\n",
              "      fill: #1967D2;\n",
              "      height: 32px;\n",
              "      padding: 0 0 0 0;\n",
              "      width: 32px;\n",
              "    }\n",
              "\n",
              "    .colab-df-convert:hover {\n",
              "      background-color: #E2EBFA;\n",
              "      box-shadow: 0px 1px 2px rgba(60, 64, 67, 0.3), 0px 1px 3px 1px rgba(60, 64, 67, 0.15);\n",
              "      fill: #174EA6;\n",
              "    }\n",
              "\n",
              "    .colab-df-buttons div {\n",
              "      margin-bottom: 4px;\n",
              "    }\n",
              "\n",
              "    [theme=dark] .colab-df-convert {\n",
              "      background-color: #3B4455;\n",
              "      fill: #D2E3FC;\n",
              "    }\n",
              "\n",
              "    [theme=dark] .colab-df-convert:hover {\n",
              "      background-color: #434B5C;\n",
              "      box-shadow: 0px 1px 3px 1px rgba(0, 0, 0, 0.15);\n",
              "      filter: drop-shadow(0px 1px 2px rgba(0, 0, 0, 0.3));\n",
              "      fill: #FFFFFF;\n",
              "    }\n",
              "  </style>\n",
              "\n",
              "    <script>\n",
              "      const buttonEl =\n",
              "        document.querySelector('#df-375bdd66-3c6a-4a5a-a5a5-7eae8a58a9a5 button.colab-df-convert');\n",
              "      buttonEl.style.display =\n",
              "        google.colab.kernel.accessAllowed ? 'block' : 'none';\n",
              "\n",
              "      async function convertToInteractive(key) {\n",
              "        const element = document.querySelector('#df-375bdd66-3c6a-4a5a-a5a5-7eae8a58a9a5');\n",
              "        const dataTable =\n",
              "          await google.colab.kernel.invokeFunction('convertToInteractive',\n",
              "                                                    [key], {});\n",
              "        if (!dataTable) return;\n",
              "\n",
              "        const docLinkHtml = 'Like what you see? Visit the ' +\n",
              "          '<a target=\"_blank\" href=https://colab.research.google.com/notebooks/data_table.ipynb>data table notebook</a>'\n",
              "          + ' to learn more about interactive tables.';\n",
              "        element.innerHTML = '';\n",
              "        dataTable['output_type'] = 'display_data';\n",
              "        await google.colab.output.renderOutput(dataTable, element);\n",
              "        const docLink = document.createElement('div');\n",
              "        docLink.innerHTML = docLinkHtml;\n",
              "        element.appendChild(docLink);\n",
              "      }\n",
              "    </script>\n",
              "  </div>\n",
              "\n",
              "\n",
              "    <div id=\"df-1dfa486f-8fca-4798-a206-3f5f9465e164\">\n",
              "      <button class=\"colab-df-quickchart\" onclick=\"quickchart('df-1dfa486f-8fca-4798-a206-3f5f9465e164')\"\n",
              "                title=\"Suggest charts\"\n",
              "                style=\"display:none;\">\n",
              "\n",
              "<svg xmlns=\"http://www.w3.org/2000/svg\" height=\"24px\"viewBox=\"0 0 24 24\"\n",
              "     width=\"24px\">\n",
              "    <g>\n",
              "        <path d=\"M19 3H5c-1.1 0-2 .9-2 2v14c0 1.1.9 2 2 2h14c1.1 0 2-.9 2-2V5c0-1.1-.9-2-2-2zM9 17H7v-7h2v7zm4 0h-2V7h2v10zm4 0h-2v-4h2v4z\"/>\n",
              "    </g>\n",
              "</svg>\n",
              "      </button>\n",
              "\n",
              "<style>\n",
              "  .colab-df-quickchart {\n",
              "      --bg-color: #E8F0FE;\n",
              "      --fill-color: #1967D2;\n",
              "      --hover-bg-color: #E2EBFA;\n",
              "      --hover-fill-color: #174EA6;\n",
              "      --disabled-fill-color: #AAA;\n",
              "      --disabled-bg-color: #DDD;\n",
              "  }\n",
              "\n",
              "  [theme=dark] .colab-df-quickchart {\n",
              "      --bg-color: #3B4455;\n",
              "      --fill-color: #D2E3FC;\n",
              "      --hover-bg-color: #434B5C;\n",
              "      --hover-fill-color: #FFFFFF;\n",
              "      --disabled-bg-color: #3B4455;\n",
              "      --disabled-fill-color: #666;\n",
              "  }\n",
              "\n",
              "  .colab-df-quickchart {\n",
              "    background-color: var(--bg-color);\n",
              "    border: none;\n",
              "    border-radius: 50%;\n",
              "    cursor: pointer;\n",
              "    display: none;\n",
              "    fill: var(--fill-color);\n",
              "    height: 32px;\n",
              "    padding: 0;\n",
              "    width: 32px;\n",
              "  }\n",
              "\n",
              "  .colab-df-quickchart:hover {\n",
              "    background-color: var(--hover-bg-color);\n",
              "    box-shadow: 0 1px 2px rgba(60, 64, 67, 0.3), 0 1px 3px 1px rgba(60, 64, 67, 0.15);\n",
              "    fill: var(--button-hover-fill-color);\n",
              "  }\n",
              "\n",
              "  .colab-df-quickchart-complete:disabled,\n",
              "  .colab-df-quickchart-complete:disabled:hover {\n",
              "    background-color: var(--disabled-bg-color);\n",
              "    fill: var(--disabled-fill-color);\n",
              "    box-shadow: none;\n",
              "  }\n",
              "\n",
              "  .colab-df-spinner {\n",
              "    border: 2px solid var(--fill-color);\n",
              "    border-color: transparent;\n",
              "    border-bottom-color: var(--fill-color);\n",
              "    animation:\n",
              "      spin 1s steps(1) infinite;\n",
              "  }\n",
              "\n",
              "  @keyframes spin {\n",
              "    0% {\n",
              "      border-color: transparent;\n",
              "      border-bottom-color: var(--fill-color);\n",
              "      border-left-color: var(--fill-color);\n",
              "    }\n",
              "    20% {\n",
              "      border-color: transparent;\n",
              "      border-left-color: var(--fill-color);\n",
              "      border-top-color: var(--fill-color);\n",
              "    }\n",
              "    30% {\n",
              "      border-color: transparent;\n",
              "      border-left-color: var(--fill-color);\n",
              "      border-top-color: var(--fill-color);\n",
              "      border-right-color: var(--fill-color);\n",
              "    }\n",
              "    40% {\n",
              "      border-color: transparent;\n",
              "      border-right-color: var(--fill-color);\n",
              "      border-top-color: var(--fill-color);\n",
              "    }\n",
              "    60% {\n",
              "      border-color: transparent;\n",
              "      border-right-color: var(--fill-color);\n",
              "    }\n",
              "    80% {\n",
              "      border-color: transparent;\n",
              "      border-right-color: var(--fill-color);\n",
              "      border-bottom-color: var(--fill-color);\n",
              "    }\n",
              "    90% {\n",
              "      border-color: transparent;\n",
              "      border-bottom-color: var(--fill-color);\n",
              "    }\n",
              "  }\n",
              "</style>\n",
              "\n",
              "      <script>\n",
              "        async function quickchart(key) {\n",
              "          const quickchartButtonEl =\n",
              "            document.querySelector('#' + key + ' button');\n",
              "          quickchartButtonEl.disabled = true;  // To prevent multiple clicks.\n",
              "          quickchartButtonEl.classList.add('colab-df-spinner');\n",
              "          try {\n",
              "            const charts = await google.colab.kernel.invokeFunction(\n",
              "                'suggestCharts', [key], {});\n",
              "          } catch (error) {\n",
              "            console.error('Error during call to suggestCharts:', error);\n",
              "          }\n",
              "          quickchartButtonEl.classList.remove('colab-df-spinner');\n",
              "          quickchartButtonEl.classList.add('colab-df-quickchart-complete');\n",
              "        }\n",
              "        (() => {\n",
              "          let quickchartButtonEl =\n",
              "            document.querySelector('#df-1dfa486f-8fca-4798-a206-3f5f9465e164 button');\n",
              "          quickchartButtonEl.style.display =\n",
              "            google.colab.kernel.accessAllowed ? 'block' : 'none';\n",
              "        })();\n",
              "      </script>\n",
              "    </div>\n",
              "\n",
              "    </div>\n",
              "  </div>\n"
            ],
            "application/vnd.google.colaboratory.intrinsic+json": {
              "type": "dataframe",
              "variable_name": "df"
            }
          },
          "metadata": {},
          "execution_count": 3
        }
      ]
    },
    {
      "cell_type": "code",
      "source": [
        "print(df.info())\n",
        "print(df.isnull().sum())\n",
        "df = df.drop_duplicates()\n"
      ],
      "metadata": {
        "colab": {
          "base_uri": "https://localhost:8080/"
        },
        "id": "RMjVW8zOn8Sr",
        "outputId": "3a4c5d53-48e1-4f2a-9ea6-f54175adaf0a"
      },
      "execution_count": 4,
      "outputs": [
        {
          "output_type": "stream",
          "name": "stdout",
          "text": [
            "<class 'pandas.core.frame.DataFrame'>\n",
            "RangeIndex: 59641 entries, 0 to 59640\n",
            "Data columns (total 21 columns):\n",
            " #   Column             Non-Null Count  Dtype  \n",
            "---  ------             --------------  -----  \n",
            " 0   order_number       59641 non-null  object \n",
            " 1   order_date         59641 non-null  object \n",
            " 2   customer_name      59641 non-null  object \n",
            " 3   channel            59640 non-null  object \n",
            " 4   product_name       59640 non-null  object \n",
            " 5   quantity           59640 non-null  float64\n",
            " 6   unit_price         59640 non-null  float64\n",
            " 7   revenue            59640 non-null  float64\n",
            " 8   cost               59640 non-null  float64\n",
            " 9   state              59640 non-null  object \n",
            " 10  state_name         59640 non-null  object \n",
            " 11  us_region          59640 non-null  object \n",
            " 12  lat                59640 non-null  float64\n",
            " 13  lon                59640 non-null  float64\n",
            " 14  budget             13277 non-null  float64\n",
            " 15  total_cost         59640 non-null  float64\n",
            " 16  profit             59640 non-null  float64\n",
            " 17  profit_margin_pct  59640 non-null  float64\n",
            " 18  order_month_name   59640 non-null  object \n",
            " 19  order_month_num    59640 non-null  float64\n",
            " 20  order_month        59640 non-null  object \n",
            "dtypes: float64(11), object(10)\n",
            "memory usage: 9.6+ MB\n",
            "None\n",
            "order_number             0\n",
            "order_date               0\n",
            "customer_name            0\n",
            "channel                  1\n",
            "product_name             1\n",
            "quantity                 1\n",
            "unit_price               1\n",
            "revenue                  1\n",
            "cost                     1\n",
            "state                    1\n",
            "state_name               1\n",
            "us_region                1\n",
            "lat                      1\n",
            "lon                      1\n",
            "budget               46364\n",
            "total_cost               1\n",
            "profit                   1\n",
            "profit_margin_pct        1\n",
            "order_month_name         1\n",
            "order_month_num          1\n",
            "order_month              1\n",
            "dtype: int64\n"
          ]
        }
      ]
    },
    {
      "cell_type": "code",
      "source": [
        "df['order_date'] = pd.to_datetime(df['order_date'])"
      ],
      "metadata": {
        "id": "uMjjH9-np2xy"
      },
      "execution_count": 11,
      "outputs": []
    },
    {
      "cell_type": "code",
      "source": [
        "df['Month'] = df['order_date'].dt.month\n",
        "df['Year'] = df['order_date'].dt.year"
      ],
      "metadata": {
        "id": "37jTHdfFqKYg"
      },
      "execution_count": 31,
      "outputs": []
    },
    {
      "cell_type": "code",
      "source": [
        "region_sales = df.groupby('us_region')['revenue'].sum().sort_values(ascending=False)\n",
        "region_sales.plot(kind='bar', title='Sales by Region')\n",
        "plt.ylabel('Total Sales')"
      ],
      "metadata": {
        "colab": {
          "base_uri": "https://localhost:8080/",
          "height": 543
        },
        "id": "g8T83bMeqVnd",
        "outputId": "29f96c3a-f08b-4cd5-8313-b2a5752f474d"
      },
      "execution_count": 32,
      "outputs": [
        {
          "output_type": "execute_result",
          "data": {
            "text/plain": [
              "Text(0, 0.5, 'Total Sales')"
            ]
          },
          "metadata": {},
          "execution_count": 32
        },
        {
          "output_type": "display_data",
          "data": {
            "text/plain": [
              "<Figure size 640x480 with 1 Axes>"
            ],
            "image/png": "[encoded data removed]"
          },
          "metadata": {}
        }
      ]
    },
    {
      "cell_type": "code",
      "source": [
        "monthly_sales = df.groupby(['Year', 'Month'])['revenue'].sum()\n",
        "monthly_sales.plot(title='Monthly Sales Trend')\n",
        "plt.ylabel('Sales')"
      ],
      "metadata": {
        "colab": {
          "base_uri": "https://localhost:8080/",
          "height": 489
        },
        "id": "WuKxqhN5qlkf",
        "outputId": "b4373cd1-0253-46ac-8879-07478530de2c"
      },
      "execution_count": 33,
      "outputs": [
        {
          "output_type": "execute_result",
          "data": {
            "text/plain": [
              "Text(0, 0.5, 'Sales')"
            ]
          },
          "metadata": {},
          "execution_count": 33
        },
        {
          "output_type": "display_data",
          "data": {
            "text/plain": [
              "<Figure size 640x480 with 1 Axes>"
            ],
            "image/png": "[encoded data removed]"
          },
          "metadata": {}
        }
      ]
    },
    {
      "cell_type": "code",
      "source": [
        "top_products = df.groupby('product_name')['revenue'].sum().sort_values(ascending=False).head(10)\n",
        "top_products.plot(kind='bar', title='Top 10 Selling Products')"
      ],
      "metadata": {
        "colab": {
          "base_uri": "https://localhost:8080/",
          "height": 550
        },
        "id": "eNxstg0oq5Ah",
        "outputId": "66744d38-e05f-4105-c55c-b7b8eefbb8ff"
      },
      "execution_count": 34,
      "outputs": [
        {
          "output_type": "execute_result",
          "data": {
            "text/plain": [
              "<Axes: title={'center': 'Top 10 Selling Products'}, xlabel='product_name'>"
            ]
          },
          "metadata": {},
          "execution_count": 34
        },
        {
          "output_type": "display_data",
          "data": {
            "text/plain": [
              "<Figure size 640x480 with 1 Axes>"
            ],
            "image/png": "[encoded data removed]"
          },
          "metadata": {}
        }
      ]
    },
    {
      "cell_type": "code",
      "source": [
        "import os\n",
        "\n",
        "# Create the directory if it doesn't exist\n",
        "os.makedirs('../data', exist_ok=True)\n",
        "\n",
        "df.to_csv('../data/cleaned_sales.csv', index=False)"
      ],
      "metadata": {
        "id": "1IWngVbarDCe"
      },
      "execution_count": 36,
      "outputs": []
    }
  ]
}