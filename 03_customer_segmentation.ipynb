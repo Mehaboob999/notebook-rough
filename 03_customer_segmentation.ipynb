{
  "nbformat": 4,
  "nbformat_minor": 0,
  "metadata": {
    "colab": {
      "private_outputs": true,
      "provenance": [],
      "authorship_tag": "ABX9TyPi5wOIE2tUzFljP2kFUPwI",
      "include_colab_link": true
    },
    "kernelspec": {
      "name": "python3",
      "display_name": "Python 3"
    },
    "language_info": {
      "name": "python"
    }
  },
  "cells": [
    {
      "cell_type": "markdown",
      "metadata": {
        "id": "view-in-github",
        "colab_type": "text"
      },
      "source": [
        "<a href=\"https://colab.research.google.com/github/Mehaboob999/notebook-rough/blob/main/03_customer_segmentation.ipynb\" target=\"_parent\"><img src=\"https://colab.research.google.com/assets/colab-badge.svg\" alt=\"Open In Colab\"/></a>"
      ]
    },
    {
      "cell_type": "code",
      "execution_count": null,
      "metadata": {
        "id": "epHGPtZItFFy"
      },
      "outputs": [],
      "source": [
        "import pandas as pd\n",
        "import matplotlib.pyplot as plt\n",
        "import seaborn as sns\n",
        "from sklearn.cluster import KMeans\n",
        "from sklearn.preprocessing import StandardScaler\n"
      ]
    },
    {
      "cell_type": "code",
      "source": [
        "# Load cleaned data\n",
        "df = pd.read_csv('/content/cleaned_sales.csv')\n",
        "\n",
        "# Preview\n",
        "df.head()\n"
      ],
      "metadata": {
        "id": "Jt2D88hptbWv"
      },
      "execution_count": null,
      "outputs": []
    },
    {
      "cell_type": "code",
      "source": [
        "# Group by customer\n",
        "customer_data = df.groupby('customer_name').agg({\n",
        "    'revenue': 'sum',\n",
        "    'order_number': 'nunique',\n",
        "}).rename(columns={\n",
        "    'revenue': 'total_revenue',\n",
        "    'order_number': 'num_orders'\n",
        "})\n",
        "\n",
        "# Add average order value\n",
        "customer_data['avg_order_value'] = customer_data['total_revenue'] / customer_data['num_orders']\n",
        "customer_data.reset_index(inplace=True)\n",
        "\n",
        "customer_data.head()"
      ],
      "metadata": {
        "id": "ARTnzz9LuOl6"
      },
      "execution_count": null,
      "outputs": []
    },
    {
      "cell_type": "code",
      "source": [
        "features = ['total_revenue', 'num_orders', 'avg_order_value']\n",
        "scaler = StandardScaler()\n",
        "scaled_features = scaler.fit_transform(customer_data[features])\n"
      ],
      "metadata": {
        "id": "pmFIUpvauanF"
      },
      "execution_count": null,
      "outputs": []
    },
    {
      "cell_type": "code",
      "source": [
        "sse = []\n",
        "for k in range(1, 11):\n",
        "    kmeans = KMeans(n_clusters=k, random_state=42, n_init=10)\n",
        "    kmeans.fit(scaled_features)\n",
        "    sse.append(kmeans.inertia_)\n",
        "\n",
        "# Plot Elbow Curve\n",
        "plt.figure(figsize=(8, 4))\n",
        "plt.plot(range(1, 11), sse, marker='o')\n",
        "plt.xlabel('Number of Clusters')\n",
        "plt.ylabel('SSE (Inertia)')\n",
        "plt.title('Elbow Method for Optimal Clusters')\n",
        "plt.grid(True)\n",
        "plt.show()\n"
      ],
      "metadata": {
        "id": "9-1ndto7unBL"
      },
      "execution_count": null,
      "outputs": []
    },
    {
      "cell_type": "code",
      "source": [
        "kmeans = KMeans(n_clusters=4, random_state=42, n_init=10)\n",
        "customer_data['cluster'] = kmeans.fit_predict(scaled_features)\n"
      ],
      "metadata": {
        "id": "AiQIhGNvutFe"
      },
      "execution_count": null,
      "outputs": []
    },
    {
      "cell_type": "code",
      "source": [
        "# Plot clusters\n",
        "sns.pairplot(customer_data, hue='cluster', diag_kind='kde')\n",
        "plt.suptitle('Customer Clusters', y=1.02)\n",
        "plt.show()\n"
      ],
      "metadata": {
        "id": "pbpnPf9Ouz1B"
      },
      "execution_count": null,
      "outputs": []
    },
    {
      "cell_type": "code",
      "source": [
        "import os\n",
        "\n",
        "# Create the directory if it doesn't exist\n",
        "os.makedirs('../data', exist_ok=True)\n",
        "\n",
        "customer_data.to_csv('../data/customer_clusters.csv', index=False)\n",
        "print(\"✅ customer_clusters.csv saved!\")"
      ],
      "metadata": {
        "id": "Yzew7xLlu5eg"
      },
      "execution_count": null,
      "outputs": []
    }
  ]
}