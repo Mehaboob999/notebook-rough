{
  "nbformat": 4,
  "nbformat_minor": 0,
  "metadata": {
    "colab": {
      "private_outputs": true,
      "provenance": [],
      "authorship_tag": "ABX9TyN7n6euNdchJN0EGRnMjuT+",
      "include_colab_link": true
    },
    "kernelspec": {
      "name": "python3",
      "display_name": "Python 3"
    },
    "language_info": {
      "name": "python"
    }
  },
  "cells": [
    {
      "cell_type": "markdown",
      "metadata": {
        "id": "view-in-github",
        "colab_type": "text"
      },
      "source": [
        "<a href=\"https://colab.research.google.com/github/Mehaboob999/notebook-rough/blob/main/02_sales_forecasting.ipynb\" target=\"_parent\"><img src=\"https://colab.research.google.com/assets/colab-badge.svg\" alt=\"Open In Colab\"/></a>"
      ]
    },
    {
      "cell_type": "code",
      "execution_count": null,
      "metadata": {
        "id": "OjqYEFXOTJyd"
      },
      "outputs": [],
      "source": [
        "import pandas as pd\n",
        "from prophet import Prophet\n",
        "import matplotlib.pyplot as plt\n"
      ]
    },
    {
      "cell_type": "code",
      "source": [
        "df = pd.read_csv('/content/cleaned_sales.csv')\n",
        "df['order_date'] = pd.to_datetime(df['order_date'])"
      ],
      "metadata": {
        "id": "KAHKZZoiTzGN"
      },
      "execution_count": null,
      "outputs": []
    },
    {
      "cell_type": "code",
      "source": [
        "# Group monthly using 'revenue'\n",
        "monthly = df.groupby(pd.Grouper(key='order_date', freq='ME'))['revenue'].sum().reset_index()\n",
        "\n",
        "# Prepare for Prophet\n",
        "forecast_df = monthly.rename(columns={'order_date': 'ds', 'revenue': 'y'})\n"
      ],
      "metadata": {
        "id": "BBdlzPnkUYmF"
      },
      "execution_count": null,
      "outputs": []
    },
    {
      "cell_type": "code",
      "source": [
        "model = Prophet()\n",
        "model.fit(forecast_df)\n"
      ],
      "metadata": {
        "id": "iNx-6N8HWDtU"
      },
      "execution_count": null,
      "outputs": []
    },
    {
      "cell_type": "code",
      "source": [
        "future = model.make_future_dataframe(periods=6, freq='M')\n",
        "forecast = model.predict(future)\n"
      ],
      "metadata": {
        "id": "4QM-iek6Wt1j"
      },
      "execution_count": null,
      "outputs": []
    },
    {
      "cell_type": "code",
      "source": [
        "fig = model.plot(forecast)\n",
        "plt.title(\"Monthly Revenue Forecast\")\n",
        "plt.xlabel(\"Date\")\n",
        "plt.ylabel(\"Revenue\")\n",
        "plt.tight_layout()\n",
        "plt.show()\n"
      ],
      "metadata": {
        "id": "y1t6mhZDWwJf"
      },
      "execution_count": null,
      "outputs": []
    },
    {
      "cell_type": "code",
      "source": [
        "import os\n",
        "\n",
        "forecast_output = forecast[['ds', 'yhat', 'yhat_lower', 'yhat_upper']]\n",
        "output_dir = '../data'\n",
        "os.makedirs(output_dir, exist_ok=True)\n",
        "forecast_output.to_csv(os.path.join(output_dir, 'sales_forecast.csv'), index=False)"
      ],
      "metadata": {
        "id": "wmHhmxXfW6hb"
      },
      "execution_count": null,
      "outputs": []
    }
  ]
}