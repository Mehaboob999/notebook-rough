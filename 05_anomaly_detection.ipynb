{
  "nbformat": 4,
  "nbformat_minor": 0,
  "metadata": {
    "colab": {
      "private_outputs": true,
      "provenance": [],
      "authorship_tag": "ABX9TyMfkC/0gxNrTirOGz94R3dX",
      "include_colab_link": true
    },
    "kernelspec": {
      "name": "python3",
      "display_name": "Python 3"
    },
    "language_info": {
      "name": "python"
    }
  },
  "cells": [
    {
      "cell_type": "markdown",
      "metadata": {
        "id": "view-in-github",
        "colab_type": "text"
      },
      "source": [
        "<a href=\"https://colab.research.google.com/github/Mehaboob999/notebook-rough/blob/main/05_anomaly_detection.ipynb\" target=\"_parent\"><img src=\"https://colab.research.google.com/assets/colab-badge.svg\" alt=\"Open In Colab\"/></a>"
      ]
    },
    {
      "cell_type": "code",
      "source": [
        "import pandas as pd\n",
        "import matplotlib.pyplot as plt\n",
        "import seaborn as sns\n",
        "from sklearn.ensemble import IsolationForest\n"
      ],
      "metadata": {
        "id": "Q3LXxgv7w2cF"
      },
      "execution_count": null,
      "outputs": []
    },
    {
      "cell_type": "code",
      "source": [
        "# Load cleaned dataset\n",
        "df = pd.read_csv('/content/cleaned_sales.csv')\n",
        "df.head()\n",
        "\n"
      ],
      "metadata": {
        "id": "T6_Ti2jjxISs"
      },
      "execution_count": null,
      "outputs": []
    },
    {
      "cell_type": "code",
      "source": [
        "df['order_date'] = pd.to_datetime(df['order_date'])\n",
        "\n",
        "# Group by month\n",
        "monthly = df.groupby(pd.Grouper(key='order_date', freq='M'))[['revenue', 'profit']].sum().reset_index()\n",
        "monthly.head()\n"
      ],
      "metadata": {
        "id": "2qJPpnW_xJ28"
      },
      "execution_count": null,
      "outputs": []
    },
    {
      "cell_type": "code",
      "source": [
        "# Isolation Forest works well for time-based outlier detection\n",
        "model = IsolationForest(contamination=0.05, random_state=42)\n",
        "monthly['anomaly'] = model.fit_predict(monthly[['revenue', 'profit']])\n",
        "\n",
        "# -1 means anomaly\n",
        "monthly['anomaly_flag'] = monthly['anomaly'].apply(lambda x: 'Anomaly' if x == -1 else 'Normal')\n"
      ],
      "metadata": {
        "id": "KabcTqibxWrR"
      },
      "execution_count": null,
      "outputs": []
    },
    {
      "cell_type": "code",
      "source": [
        "plt.figure(figsize=(12,6))\n",
        "sns.lineplot(data=monthly, x='order_date', y='revenue', label='Revenue')\n",
        "sns.scatterplot(data=monthly[monthly.anomaly_flag=='Anomaly'], x='order_date', y='revenue', color='red', label='Anomaly')\n",
        "plt.title(\"Revenue Over Time with Anomalies\")\n",
        "plt.show()\n"
      ],
      "metadata": {
        "id": "SRXAbBp3xj8i"
      },
      "execution_count": null,
      "outputs": []
    },
    {
      "cell_type": "code",
      "source": [
        "plt.figure(figsize=(12,6))\n",
        "sns.lineplot(data=monthly, x='order_date', y='profit', label='Profit')\n",
        "sns.scatterplot(data=monthly[monthly.anomaly_flag=='Anomaly'], x='order_date', y='profit', color='orange', label='Anomaly')\n",
        "plt.title(\"Profit Over Time with Anomalies\")\n",
        "plt.show()\n"
      ],
      "metadata": {
        "id": "3ZbhcuHFxnTC"
      },
      "execution_count": null,
      "outputs": []
    },
    {
      "cell_type": "code",
      "source": [
        "monthly.to_csv('../data/anomalies.csv', index=False)\n",
        "print(\"✅ anomalies.csv saved!\")\n"
      ],
      "metadata": {
        "id": "Xy4-nJmRxv_N"
      },
      "execution_count": null,
      "outputs": []
    }
  ]
}